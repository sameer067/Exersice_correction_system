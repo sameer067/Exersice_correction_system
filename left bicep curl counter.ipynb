{
 "cells": [
  {
   "cell_type": "code",
   "execution_count": 1,
   "id": "79de6360",
   "metadata": {},
   "outputs": [],
   "source": [
    "import numpy as np"
   ]
  },
  {
   "cell_type": "code",
   "execution_count": 2,
   "id": "2bb68691",
   "metadata": {},
   "outputs": [
    {
     "name": "stdout",
     "output_type": "stream",
     "text": [
      "Defaulting to user installation because normal site-packages is not writeable\n",
      "Requirement already satisfied: opencv-python in c:\\users\\chait\\appdata\\roaming\\python\\python310\\site-packages (4.7.0.72)\n",
      "Requirement already satisfied: numpy>=1.17.3 in c:\\programdata\\anaconda3\\lib\\site-packages (from opencv-python) (1.23.5)\n"
     ]
    }
   ],
   "source": [
    "!pip install opencv-python"
   ]
  },
  {
   "cell_type": "code",
   "execution_count": 3,
   "id": "c01316ae",
   "metadata": {
    "scrolled": true
   },
   "outputs": [
    {
     "name": "stdout",
     "output_type": "stream",
     "text": [
      "Defaulting to user installation because normal site-packages is not writeable\n",
      "Requirement already satisfied: mediapipe in c:\\users\\chait\\appdata\\roaming\\python\\python310\\site-packages (0.10.1)\n",
      "Requirement already satisfied: flatbuffers>=2.0 in c:\\users\\chait\\appdata\\roaming\\python\\python310\\site-packages (from mediapipe) (23.5.26)\n",
      "Requirement already satisfied: sounddevice>=0.4.4 in c:\\users\\chait\\appdata\\roaming\\python\\python310\\site-packages (from mediapipe) (0.4.6)\n",
      "Requirement already satisfied: opencv-contrib-python in c:\\users\\chait\\appdata\\roaming\\python\\python310\\site-packages (from mediapipe) (4.7.0.72)\n",
      "Requirement already satisfied: numpy in c:\\programdata\\anaconda3\\lib\\site-packages (from mediapipe) (1.23.5)\n",
      "Requirement already satisfied: matplotlib in c:\\programdata\\anaconda3\\lib\\site-packages (from mediapipe) (3.7.0)\n",
      "Requirement already satisfied: protobuf<4,>=3.11 in c:\\users\\chait\\appdata\\roaming\\python\\python310\\site-packages (from mediapipe) (3.20.3)\n",
      "Requirement already satisfied: attrs>=19.1.0 in c:\\programdata\\anaconda3\\lib\\site-packages (from mediapipe) (22.1.0)\n",
      "Requirement already satisfied: absl-py in c:\\users\\chait\\appdata\\roaming\\python\\python310\\site-packages (from mediapipe) (1.4.0)\n",
      "Requirement already satisfied: CFFI>=1.0 in c:\\programdata\\anaconda3\\lib\\site-packages (from sounddevice>=0.4.4->mediapipe) (1.15.1)\n",
      "Requirement already satisfied: python-dateutil>=2.7 in c:\\programdata\\anaconda3\\lib\\site-packages (from matplotlib->mediapipe) (2.8.2)\n",
      "Requirement already satisfied: packaging>=20.0 in c:\\programdata\\anaconda3\\lib\\site-packages (from matplotlib->mediapipe) (22.0)\n",
      "Requirement already satisfied: cycler>=0.10 in c:\\programdata\\anaconda3\\lib\\site-packages (from matplotlib->mediapipe) (0.11.0)\n",
      "Requirement already satisfied: kiwisolver>=1.0.1 in c:\\programdata\\anaconda3\\lib\\site-packages (from matplotlib->mediapipe) (1.4.4)\n",
      "Requirement already satisfied: pyparsing>=2.3.1 in c:\\programdata\\anaconda3\\lib\\site-packages (from matplotlib->mediapipe) (3.0.9)\n",
      "Requirement already satisfied: fonttools>=4.22.0 in c:\\programdata\\anaconda3\\lib\\site-packages (from matplotlib->mediapipe) (4.25.0)\n",
      "Requirement already satisfied: pillow>=6.2.0 in c:\\programdata\\anaconda3\\lib\\site-packages (from matplotlib->mediapipe) (9.4.0)\n",
      "Requirement already satisfied: contourpy>=1.0.1 in c:\\programdata\\anaconda3\\lib\\site-packages (from matplotlib->mediapipe) (1.0.5)\n",
      "Requirement already satisfied: pycparser in c:\\programdata\\anaconda3\\lib\\site-packages (from CFFI>=1.0->sounddevice>=0.4.4->mediapipe) (2.21)\n",
      "Requirement already satisfied: six>=1.5 in c:\\programdata\\anaconda3\\lib\\site-packages (from python-dateutil>=2.7->matplotlib->mediapipe) (1.16.0)\n"
     ]
    }
   ],
   "source": [
    "!pip install mediapipe"
   ]
  },
  {
   "cell_type": "code",
   "execution_count": 4,
   "id": "0bec6fc1",
   "metadata": {},
   "outputs": [],
   "source": [
    "import cv2 as cv2\n",
    "import mediapipe as mp\n",
    "mp_drawing=mp.solutions.drawing_utils\n",
    "mp_pose=mp.solutions.pose"
   ]
  },
  {
   "cell_type": "code",
   "execution_count": null,
   "id": "b484dfd1",
   "metadata": {},
   "outputs": [],
   "source": [
    "# video feed\n",
    "cap=cv2.VideoCapture(0)\n",
    "while cap.isOpened():\n",
    "  ret,frame=cap.read()\n",
    "  cv2.imshow('Mediapipe Feed',frame)\n",
    "\n",
    "  if cv2.waitKey(10)& 0xFF == ord('q'):\n",
    "    break\n",
    "\n",
    "cap.release()\n",
    "cv2.destroyAllWindows()"
   ]
  },
  {
   "cell_type": "markdown",
   "id": "047cf007",
   "metadata": {},
   "source": [
    "# detections\n"
   ]
  },
  {
   "cell_type": "code",
   "execution_count": 13,
   "id": "b3208f90",
   "metadata": {},
   "outputs": [],
   "source": [
    "\n",
    "cap=cv2.VideoCapture(0)\n",
    "## setting up mediapipe instance\n",
    "with mp_pose.Pose(min_detection_confidence=0.5,min_tracking_confidence=0.5) as pose:\n",
    "    while cap.isOpened():\n",
    "        ret,frame=cap.read()\n",
    "        #recolor image\n",
    "        image=cv2.cvtColor(frame,cv2.COLOR_BGR2RGB)\n",
    "        image.flags.writeable=False\n",
    "        \n",
    "        #make detections\n",
    "        results=pose.process(image)\n",
    "        \n",
    "        #recolouring back\n",
    "        image.flags.writeable=True\n",
    "        image=cv2.cvtColor(image,cv2.COLOR_RGB2BGR)\n",
    "        \n",
    "        #render detections\n",
    "        mp_drawing.draw_landmarks(image,results.pose_landmarks,mp_pose.POSE_CONNECTIONS,\n",
    "                                 mp_drawing.DrawingSpec(color=(245,117,66),thickness=2,circle_radius=2),\n",
    "                                 mp_drawing.DrawingSpec(color=(245,66,230),thickness=2,circle_radius=2))\n",
    "        \n",
    "        #showing the renderred image \n",
    "        cv2.imshow('Mediapipe Feed',image)\n",
    "          \n",
    "        if cv2.waitKey(10)& 0xFF == ord('q'):\n",
    "            break\n",
    "\n",
    "    cap.release()\n",
    "    cv2.destroyAllWindows()"
   ]
  },
  {
   "cell_type": "markdown",
   "id": "0034dfa9",
   "metadata": {},
   "source": [
    "# Determining Joints"
   ]
  },
  {
   "cell_type": "code",
   "execution_count": 17,
   "id": "64036848",
   "metadata": {},
   "outputs": [],
   "source": [
    "cap=cv2.VideoCapture(0)\n",
    "## setting up mediapipe instance\n",
    "with mp_pose.Pose(min_detection_confidence=0.5,min_tracking_confidence=0.5) as pose:\n",
    "    while cap.isOpened():\n",
    "        ret,frame=cap.read()\n",
    "        #recolor image\n",
    "        image=cv2.cvtColor(frame,cv2.COLOR_BGR2RGB)\n",
    "        image.flags.writeable=False\n",
    "        \n",
    "        #make detections\n",
    "        results=pose.process(image)\n",
    "        \n",
    "        #recolouring back\n",
    "        image.flags.writeable=True\n",
    "        image=cv2.cvtColor(image,cv2.COLOR_RGB2BGR)\n",
    "        \n",
    "        #extracting landmarks\n",
    "        try:\n",
    "            landmarks=results.pose_landmarks.landmark\n",
    "        except:\n",
    "            pass\n",
    "        \n",
    "        #render detections\n",
    "        mp_drawing.draw_landmarks(image,results.pose_landmarks,mp_pose.POSE_CONNECTIONS,\n",
    "                                 mp_drawing.DrawingSpec(color=(245,117,66),thickness=2,circle_radius=2),\n",
    "                                 mp_drawing.DrawingSpec(color=(245,66,230),thickness=2,circle_radius=2))\n",
    "        \n",
    "        #showing the renderred image \n",
    "        cv2.imshow('Mediapipe Feed',image)\n",
    "          \n",
    "        if cv2.waitKey(10)& 0xFF == ord('q'):\n",
    "            break\n",
    "\n",
    "    cap.release()\n",
    "    cv2.destroyAllWindows()"
   ]
  },
  {
   "cell_type": "code",
   "execution_count": 18,
   "id": "0a4ad6ce",
   "metadata": {},
   "outputs": [
    {
     "name": "stdout",
     "output_type": "stream",
     "text": [
      "PoseLandmark.NOSE\n",
      "PoseLandmark.LEFT_EYE_INNER\n",
      "PoseLandmark.LEFT_EYE\n",
      "PoseLandmark.LEFT_EYE_OUTER\n",
      "PoseLandmark.RIGHT_EYE_INNER\n",
      "PoseLandmark.RIGHT_EYE\n",
      "PoseLandmark.RIGHT_EYE_OUTER\n",
      "PoseLandmark.LEFT_EAR\n",
      "PoseLandmark.RIGHT_EAR\n",
      "PoseLandmark.MOUTH_LEFT\n",
      "PoseLandmark.MOUTH_RIGHT\n",
      "PoseLandmark.LEFT_SHOULDER\n",
      "PoseLandmark.RIGHT_SHOULDER\n",
      "PoseLandmark.LEFT_ELBOW\n",
      "PoseLandmark.RIGHT_ELBOW\n",
      "PoseLandmark.LEFT_WRIST\n",
      "PoseLandmark.RIGHT_WRIST\n",
      "PoseLandmark.LEFT_PINKY\n",
      "PoseLandmark.RIGHT_PINKY\n",
      "PoseLandmark.LEFT_INDEX\n",
      "PoseLandmark.RIGHT_INDEX\n",
      "PoseLandmark.LEFT_THUMB\n",
      "PoseLandmark.RIGHT_THUMB\n",
      "PoseLandmark.LEFT_HIP\n",
      "PoseLandmark.RIGHT_HIP\n",
      "PoseLandmark.LEFT_KNEE\n",
      "PoseLandmark.RIGHT_KNEE\n",
      "PoseLandmark.LEFT_ANKLE\n",
      "PoseLandmark.RIGHT_ANKLE\n",
      "PoseLandmark.LEFT_HEEL\n",
      "PoseLandmark.RIGHT_HEEL\n",
      "PoseLandmark.LEFT_FOOT_INDEX\n",
      "PoseLandmark.RIGHT_FOOT_INDEX\n"
     ]
    }
   ],
   "source": [
    "for lndmrk in mp_pose.PoseLandmark:\n",
    "    print(lndmrk)"
   ]
  },
  {
   "cell_type": "code",
   "execution_count": 24,
   "id": "dff6b58e",
   "metadata": {},
   "outputs": [
    {
     "data": {
      "text/plain": [
       "x: 0.7219667434692383\n",
       "y: 0.7232388257980347\n",
       "z: -0.0550810769200325\n",
       "visibility: 0.35277116298675537"
      ]
     },
     "execution_count": 24,
     "metadata": {},
     "output_type": "execute_result"
    }
   ],
   "source": [
    "landmarks[mp_pose.PoseLandmark.LEFT_SHOULDER]"
   ]
  },
  {
   "cell_type": "code",
   "execution_count": 25,
   "id": "c06aafeb",
   "metadata": {},
   "outputs": [
    {
     "data": {
      "text/plain": [
       "x: 0.8803603053092957\n",
       "y: 0.671747624874115\n",
       "z: -0.17540666460990906\n",
       "visibility: 0.950712263584137"
      ]
     },
     "execution_count": 25,
     "metadata": {},
     "output_type": "execute_result"
    }
   ],
   "source": [
    "landmarks[mp_pose.PoseLandmark.LEFT_ELBOW]"
   ]
  },
  {
   "cell_type": "code",
   "execution_count": 26,
   "id": "371328e7",
   "metadata": {},
   "outputs": [
    {
     "data": {
      "text/plain": [
       "x: 0.7913928627967834\n",
       "y: 0.5355197787284851\n",
       "z: -0.3968554139137268\n",
       "visibility: 0.9313799738883972"
      ]
     },
     "execution_count": 26,
     "metadata": {},
     "output_type": "execute_result"
    }
   ],
   "source": [
    "landmarks[mp_pose.PoseLandmark.LEFT_WRIST]"
   ]
  },
  {
   "cell_type": "markdown",
   "id": "984573ca",
   "metadata": {},
   "source": [
    "\n",
    "# Calculating angles using some trigo"
   ]
  },
  {
   "cell_type": "code",
   "execution_count": 34,
   "id": "2601571f",
   "metadata": {},
   "outputs": [],
   "source": [
    "def calculate_angle(a,b,c):\n",
    "    #converting a,b,c, into arrays\n",
    "    a=np.array(a) #shoulder\n",
    "    b=np.array(b) #elbow\n",
    "    c=np.array(c) #wrist\n",
    "    \n",
    "    radians=np.arctan2(c[1]-b[1],c[0]-b[0])-np.arctan2(a[1]-b[1],a[0]-b[0])\n",
    "    angle=np.abs(radians*180.0/np.pi)\n",
    "    \n",
    "    if angle>180.0:\n",
    "        angle=360-angle\n",
    "        \n",
    "    return angle    "
   ]
  },
  {
   "cell_type": "code",
   "execution_count": 32,
   "id": "3193be9a",
   "metadata": {},
   "outputs": [],
   "source": [
    "#for angle betweenshoulder elbow and wrist\n",
    "shoulder=[landmarks[mp_pose.PoseLandmark.LEFT_SHOULDER].x,landmarks[mp_pose.PoseLandmark.LEFT_SHOULDER].y]\n",
    "elbow=[landmarks[mp_pose.PoseLandmark.LEFT_ELBOW].x,landmarks[mp_pose.PoseLandmark.LEFT_ELBOW].y]\n",
    "wrist=[landmarks[mp_pose.PoseLandmark.LEFT_WRIST].x,landmarks[mp_pose.PoseLandmark.LEFT_WRIST].y]"
   ]
  },
  {
   "cell_type": "code",
   "execution_count": 35,
   "id": "19e4a10c",
   "metadata": {},
   "outputs": [
    {
     "data": {
      "text/plain": [
       "20.543851866886875"
      ]
     },
     "execution_count": 35,
     "metadata": {},
     "output_type": "execute_result"
    }
   ],
   "source": [
    "calculate_angle(shoulder,elbow,wrist)"
   ]
  },
  {
   "cell_type": "code",
   "execution_count": 37,
   "id": "e31a0318",
   "metadata": {},
   "outputs": [],
   "source": [
    " #for angle between hip shoulder and elbow\n",
    "hip=[landmarks[mp_pose.PoseLandmark.LEFT_HIP].x,landmarks[mp_pose.PoseLandmark.LEFT_HIP].y]\n",
    "shoulder=[landmarks[mp_pose.PoseLandmark.LEFT_SHOULDER].x,landmarks[mp_pose.PoseLandmark.LEFT_SHOULDER].y]\n",
    "elbow=[landmarks[mp_pose.PoseLandmark.LEFT_ELBOW].x,landmarks[mp_pose.PoseLandmark.LEFT_ELBOW].y]\n",
    "    \n",
    "    "
   ]
  },
  {
   "cell_type": "code",
   "execution_count": 64,
   "id": "02ac759e",
   "metadata": {},
   "outputs": [],
   "source": [
    "cap=cv2.VideoCapture(0)\n",
    "## setting up mediapipe instance\n",
    "with mp_pose.Pose(min_detection_confidence=0.5,min_tracking_confidence=0.5) as pose:\n",
    "    while cap.isOpened():\n",
    "        ret,frame=cap.read()\n",
    "        #recolor image\n",
    "        image=cv2.cvtColor(frame,cv2.COLOR_BGR2RGB)\n",
    "        image.flags.writeable=False\n",
    "        \n",
    "        #make detections\n",
    "        results=pose.process(image)\n",
    "        \n",
    "        #recolouring back\n",
    "        image.flags.writeable=True\n",
    "        image=cv2.cvtColor(image,cv2.COLOR_RGB2BGR)\n",
    "        \n",
    "        #extracting landmarks\n",
    "        try:  \n",
    "            landmarks=results.pose_landmarks.landmark\n",
    "            \n",
    "            #getting coordinates\n",
    "            shoulder=[landmarks[mp_pose.PoseLandmark.LEFT_SHOULDER].x,landmarks[mp_pose.PoseLandmark.LEFT_SHOULDER].y]\n",
    "            elbow=[landmarks[mp_pose.PoseLandmark.LEFT_ELBOW].x,landmarks[mp_pose.PoseLandmark.LEFT_ELBOW].y]\n",
    "            wrist=[landmarks[mp_pose.PoseLandmark.LEFT_WRIST].x,landmarks[mp_pose.PoseLandmark.LEFT_WRIST].y]\n",
    "            \n",
    "            # Calculating the angle beetween Shoulder Elbow and Wrist\n",
    "            angle=calculate_angle(shoulder,elbow,wrist)\n",
    "    \n",
    "            \n",
    "            #visualizing the angle on screen using put text function \n",
    "            org=tuple(np.multiply(elbow,[640,480]).astype(int))\n",
    "            cv2.putText(image,str(angle),org,cv2.FONT_HERSHEY_SIMPLEX,0.5,(255,255,255) ,2,cv2.LINE_AA)\n",
    "                      \n",
    "            \n",
    "          \n",
    "        except:\n",
    "            pass\n",
    "        \n",
    "        #render detections\n",
    "        mp_drawing.draw_landmarks(image,results.pose_landmarks,mp_pose.POSE_CONNECTIONS,\n",
    "                                 mp_drawing.DrawingSpec(color=(245,117,66),thickness=2,circle_radius=2),\n",
    "                                 mp_drawing.DrawingSpec(color=(245,66,230),thickness=2,circle_radius=2))\n",
    "        \n",
    "        #showing the renderred image \n",
    "        cv2.imshow('Mediapipe Feed',image)\n",
    "          \n",
    "        if cv2.waitKey(10)& 0xFF == ord('q'):\n",
    "            break\n",
    "\n",
    "    cap.release()\n",
    "    cv2.destroyAllWindows()"
   ]
  },
  {
   "cell_type": "markdown",
   "id": "dc541fc0",
   "metadata": {},
   "source": [
    "# Curl Counter of Bicep"
   ]
  },
  {
   "cell_type": "code",
   "execution_count": 77,
   "id": "f53c0f2a",
   "metadata": {},
   "outputs": [
    {
     "name": "stdout",
     "output_type": "stream",
     "text": [
      "1\n"
     ]
    }
   ],
   "source": [
    "cap=cv2.VideoCapture(0)\n",
    "\n",
    "#curl counter variables\n",
    "counter=0\n",
    "stage= None\n",
    "\n",
    "\n",
    "## setting up mediapipe instance\n",
    "with mp_pose.Pose(min_detection_confidence=0.5,min_tracking_confidence=0.5) as pose:\n",
    "    while cap.isOpened():\n",
    "        ret,frame=cap.read()\n",
    "        #recolor image\n",
    "        image=cv2.cvtColor(frame,cv2.COLOR_BGR2RGB)\n",
    "        image.flags.writeable=False\n",
    "        \n",
    "        #make detections\n",
    "        results=pose.process(image)\n",
    "        \n",
    "        #recolouring back\n",
    "        image.flags.writeable=True\n",
    "        image=cv2.cvtColor(image,cv2.COLOR_RGB2BGR)\n",
    "        \n",
    "        #extracting landmarks\n",
    "        try:  \n",
    "            landmarks=results.pose_landmarks.landmark\n",
    "            \n",
    "            #getting coordinates\n",
    "            shoulder=[landmarks[mp_pose.PoseLandmark.LEFT_SHOULDER].x,landmarks[mp_pose.PoseLandmark.LEFT_SHOULDER].y]\n",
    "            elbow=[landmarks[mp_pose.PoseLandmark.LEFT_ELBOW].x,landmarks[mp_pose.PoseLandmark.LEFT_ELBOW].y]\n",
    "            wrist=[landmarks[mp_pose.PoseLandmark.LEFT_WRIST].x,landmarks[mp_pose.PoseLandmark.LEFT_WRIST].y]\n",
    "            \n",
    "            # Calculating the angle beetween Shoulder Elbow and Wrist\n",
    "            angle=calculate_angle(shoulder,elbow,wrist)\n",
    "    \n",
    "            \n",
    "            #visualizing the angle on screen using put text function \n",
    "            org=tuple(np.multiply(elbow,[640,480]).astype(int))\n",
    "            cv2.putText(image,str(angle),org,cv2.FONT_HERSHEY_SIMPLEX,0.5,(255,255,255) ,2,cv2.LINE_AA)\n",
    "            \n",
    "            #counting logic for curls\n",
    "            if angle>160:\n",
    "                stage=\"down\"\n",
    "            if angle<35 and stage == \"down\":\n",
    "                stage=\"up\"\n",
    "                counter+=1\n",
    "               \n",
    "        except:\n",
    "            pass\n",
    "        #rendering the counter\n",
    "        #setting up the status box\n",
    "        cv2.rectangle(image,(0,0),(225,73),(245,117,16),-1)\n",
    "        \n",
    "        #rep data\n",
    "        cv2.putText(image,'REPS',(15,12),cv2.FONT_HERSHEY_SIMPLEX,0.5,(0,0,0),1,cv2.LINE_AA)\n",
    "        cv2.putText(image,str(counter),(10,60),cv2.FONT_HERSHEY_SIMPLEX,2,(255,255,255),2,cv2.LINE_AA)\n",
    "        \n",
    "        #congrats message if reps==10\n",
    "        \n",
    "        if(counter>=15):\n",
    "            if(counter==20):\n",
    "                break\n",
    "            cv2.putText(image,'Yeah! Buddy Light weight!!',(95,150),cv2.FONT_HERSHEY_SIMPLEX,1.,(0,0,0),3,cv2.LINE_AA)\n",
    "              \n",
    "           \n",
    "        #render detections\n",
    "        mp_drawing.draw_landmarks(image,results.pose_landmarks,mp_pose.POSE_CONNECTIONS,\n",
    "                                 mp_drawing.DrawingSpec(color=(245,117,66),thickness=2,circle_radius=2),\n",
    "                                 mp_drawing.DrawingSpec(color=(245,66,230),thickness=2,circle_radius=2))\n",
    "        \n",
    "        #showing the renderred image \n",
    "        cv2.imshow('Mediapipe Feed',image)\n",
    "          \n",
    "        if cv2.waitKey(10)& 0xFF == ord('q'):\n",
    "            break\n",
    "\n",
    "    cap.release()\n",
    "    cv2.destroyAllWindows()"
   ]
  },
  {
   "cell_type": "code",
   "execution_count": null,
   "id": "89b7194e",
   "metadata": {},
   "outputs": [],
   "source": []
  },
  {
   "cell_type": "code",
   "execution_count": null,
   "id": "fec9e90a",
   "metadata": {},
   "outputs": [],
   "source": []
  }
 ],
 "metadata": {
  "kernelspec": {
   "display_name": "Python 3 (ipykernel)",
   "language": "python",
   "name": "python3"
  },
  "language_info": {
   "codemirror_mode": {
    "name": "ipython",
    "version": 3
   },
   "file_extension": ".py",
   "mimetype": "text/x-python",
   "name": "python",
   "nbconvert_exporter": "python",
   "pygments_lexer": "ipython3",
   "version": "3.10.9"
  }
 },
 "nbformat": 4,
 "nbformat_minor": 5
}
